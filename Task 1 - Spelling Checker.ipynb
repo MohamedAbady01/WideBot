{
 "cells": [
  {
   "cell_type": "code",
   "execution_count": 11,
   "id": "498a69f1",
   "metadata": {},
   "outputs": [
    {
     "name": "stdout",
     "output_type": "stream",
     "text": [
      "Enter word_to_check apla\n",
      "Nearest words to 'apla': ['ala', 'apia', 'cola', 'ails']\n",
      "Enter word_to_add apple\n",
      "Nearest words to 'apla' after adding 'apple': ['ala', 'apia', 'cola', 'ails']\n"
     ]
    }
   ],
   "source": [
    "import heapq #for the min-heap a\n",
    "import Levenshtein # for calculating the Levenshtein distance.\n",
    "\n",
    "# for implement the spell checker functionalities.\n",
    "class SpellChecker:\n",
    "    def __init__(self):\n",
    "        self.dictionary = set()\n",
    "\n",
    "    # to add a word to the dictionary    \n",
    "    def insert(self, word):\n",
    "        self.dictionary.add(word)\n",
    "\n",
    "    '''\n",
    "    method takes an input word and returns the nearest n words \n",
    "    from the dictionary based on their Levenshtein distance to the input word. \n",
    "    The Levenshtein distance is a measure of similarity between two strings.\n",
    "    '''\n",
    "    def find_nearest_words(self, word, n=4):\n",
    "          '''\n",
    "         The Levenshtein distance calculation requires comparing the input word with each word in the dictionary.\n",
    "         The time complexity of Levenshtein distance calculation is O(m * n),\n",
    "         where m and n are the lengths of the two strings being compared.\n",
    "         We need to calculate this for n words in the dictionary and then find the n smallest distances.\n",
    "         Overall time complexity: O(n * m * k), where k is the average length of the words in the dictionary\n",
    "         .\n",
    "        '''\n",
    "        return heapq.nsmallest(n, self.dictionary, key=lambda w: Levenshtein.distance(word, w))\n",
    "\n",
    "    # method is responsible for reading the dictionary from a text file\n",
    "    def load_dictionary(self, file_path, encodings=('utf-8', 'latin-1', 'utf-16')):\n",
    "        for encoding in encodings:\n",
    "            try:\n",
    "                  ''' The time complexity of reading the file and inserting each word is O(m * k),\n",
    "                where m is the number of words in the file and k is the average word length.  '''\n",
    "                with open(file_path, \"r\", encoding=encoding) as file:\n",
    "                    for line in file:\n",
    "                        word = line.strip()\n",
    "                        if word:\n",
    "                            # The time complexity of inserting a word into a set is typically O(1) on average.\n",
    "                            self.insert(word)\n",
    "                break\n",
    "            except UnicodeDecodeError:\n",
    "                continue\n",
    "\n",
    "    def add_word(self, word):\n",
    "        # This method simply calls the insert method, so its time and space complexity is the same as insert.\n",
    "        self.insert(word)\n",
    "\n",
    "# Helper function to build the dictionary using the SpellChecker class\n",
    "def build_dictionary_from_file(file_path):\n",
    "    spell_checker = SpellChecker()\n",
    "    # The time and space complexity here will be the same as the load_dictionary method,\n",
    "    # which reads the file and inserts each word into the dictionary.\n",
    "    spell_checker.load_dictionary(file_path)\n",
    "    return spell_checker\n",
    "\n",
    "\n",
    "if __name__ == \"__main__\":\n",
    "    dictionary_file = \"dictionary.txt\"\n",
    "    spell_checker = build_dictionary_from_file(dictionary_file)\n",
    "\n",
    "    word_to_check = input(\"Enter word_to_check \")\n",
    "\n",
    "    # The time complexity here will be the same as the find_nearest_words method,\n",
    "    # which involves Levenshtein distance calculation and finding the n smallest distances.\n",
    "    nearest_words = spell_checker.find_nearest_words(word_to_check)\n",
    "    print(f\"Nearest words to '{word_to_check}': {nearest_words}\")\n",
    "\n",
    "    word_to_add = input(\"Enter word_to_add \")\n",
    "    # The time complexity here will be the same as the add_word method, which calls the insert method.\n",
    "    spell_checker.add_word(word_to_add)\n",
    "    # The time complexity here will be the same as the find_nearest_words method.\n",
    "    nearest_words_after_addition = spell_checker.find_nearest_words(word_to_check)\n",
    "    print(f\"Nearest words to '{word_to_check}' after adding '{word_to_add}': {nearest_words_after_addition}\")\n"
   ]
  },
  {
   "cell_type": "code",
   "execution_count": null,
   "id": "acfc1d40",
   "metadata": {},
   "outputs": [],
   "source": []
  }
 ],
 "metadata": {
  "kernelspec": {
   "display_name": "Python 3 (ipykernel)",
   "language": "python",
   "name": "python3"
  },
  "language_info": {
   "codemirror_mode": {
    "name": "ipython",
    "version": 3
   },
   "file_extension": ".py",
   "mimetype": "text/x-python",
   "name": "python",
   "nbconvert_exporter": "python",
   "pygments_lexer": "ipython3",
   "version": "3.9.7"
  }
 },
 "nbformat": 4,
 "nbformat_minor": 5
}
